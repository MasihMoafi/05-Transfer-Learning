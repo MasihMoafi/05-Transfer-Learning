{
 "cells": [
  {
   "cell_type": "code",
   "execution_count": 1,
   "id": "3c902ef7",
   "metadata": {},
   "outputs": [
    {
     "name": "stderr",
     "output_type": "stream",
     "text": [
      "All PyTorch model weights were used when initializing TFGPT2LMHeadModel.\n",
      "\n",
      "All the weights of TFGPT2LMHeadModel were initialized from the PyTorch model.\n",
      "If your task is similar to the task the model of the checkpoint was trained on, you can already use TFGPT2LMHeadModel for predictions without further training.\n"
     ]
    },
    {
     "name": "stdout",
     "output_type": "stream",
     "text": [
      "Enter the research field (e.g., Computer Vision): Reinforcement\n",
      "Enter the professor's name: Whatever\n",
      "Enter your name: Masih\n",
      "\n",
      "Dear Professor Whatever,\n",
      "\n",
      "I am writing to express my interest in collaborating with you on research in the field of Reinforcement. Your expertise and research interests align closely with my own, and I believe that working under your guidance would be a valuable opportunity for me to contribute to the advancement of Reinforcement research.\n",
      "\n",
      "I am currently seeking admission to a Ph.D. program and would be honored to have the chance to work with you as my\n"
     ]
    }
   ],
   "source": [
    "from transformers import TFGPT2LMHeadModel, GPT2Tokenizer\n",
    "\n",
    "tokenizer = GPT2Tokenizer.from_pretrained(\"gpt2\")\n",
    "model = TFGPT2LMHeadModel.from_pretrained(\"gpt2\")\n",
    "\n",
    "prompt = \"\"\"\n",
    "Dear Professor [Professor Name],\n",
    "\n",
    "I am writing to express my interest in collaborating with you on research in the field of [Research Field]. Your expertise and research interests align closely with my own, and I believe that working under your guidance would be a valuable opportunity for me to contribute to the advancement of [Research Field] research.\n",
    "\n",
    "I am currently seeking admission to a Ph.D. program and would be honored to have the chance to work with you as my advisor. Thank you for considering my application.\n",
    "\n",
    "Sincerely,\n",
    "[Your Name]\n",
    "\"\"\"\n",
    "\n",
    "research_field = input(\"Enter the research field (e.g., Computer Vision): \")\n",
    "professor_name = input(\"Enter the professor's name: \")\n",
    "your_name = input(\"Enter your name: \")\n",
    "\n",
    "# Customize the email content\n",
    "email_content = prompt.replace(\"[Professor Name]\", professor_name)\n",
    "email_content = email_content.replace(\"[Research Field]\", research_field)\n",
    "email_content = email_content.replace(\"[Your Name]\", your_name)\n",
    "\n",
    "input_ids = tokenizer.encode(email_content, return_tensors=\"tf\")\n",
    "\n",
    "output = model.generate(input_ids, max_length=200, temperature=0.7, pad_token_id=tokenizer.eos_token_id)\n",
    "\n",
    "output_text = tokenizer.decode(output[:, input_ids.shape[-1]:][0], skip_special_tokens=True)\n",
    "\n",
    "# Print the customized email\n",
    "print(output_text)\n"
   ]
  },
  {
   "cell_type": "code",
   "execution_count": null,
   "id": "28943d9b",
   "metadata": {},
   "outputs": [],
   "source": []
  }
 ],
 "metadata": {
  "kernelspec": {
   "display_name": "My Environment",
   "language": "python",
   "name": "new"
  },
  "language_info": {
   "codemirror_mode": {
    "name": "ipython",
    "version": 3
   },
   "file_extension": ".py",
   "mimetype": "text/x-python",
   "name": "python",
   "nbconvert_exporter": "python",
   "pygments_lexer": "ipython3",
   "version": "3.11.2"
  }
 },
 "nbformat": 4,
 "nbformat_minor": 5
}
